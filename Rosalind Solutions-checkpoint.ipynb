{
 "cells": [
  {
   "cell_type": "markdown",
   "id": "4b927e6d",
   "metadata": {},
   "source": [
    "# Rosalind Solutions\n",
    "\n",
    "This Notebook contains solution to Rosalind Bioinformatics Challenges in Julia"
   ]
  },
  {
   "cell_type": "markdown",
   "id": "270ecb87",
   "metadata": {},
   "source": [
    "## Challenge 1: Counting DNA Nucleotides"
   ]
  },
  {
   "cell_type": "code",
   "execution_count": 25,
   "id": "e1db80f7",
   "metadata": {},
   "outputs": [
    {
     "name": "stdout",
     "output_type": "stream",
     "text": [
      "242 239 224 216\n"
     ]
    }
   ],
   "source": [
    "file = open(\"rosalind_dna.txt\", \"r\")\n",
    "DNA = read(file, String) \n",
    "\n",
    "A = 0\n",
    "C = 0\n",
    "G = 0\n",
    "T = 0\n",
    "l = length(DNA)\n",
    "\n",
    "for i in 1:l\n",
    "    if DNA[i]=='A'\n",
    "        A = A+1\n",
    "    elseif DNA[i]=='C'\n",
    "        C = C+1\n",
    "    elseif DNA[i]=='G'\n",
    "        G = G+1\n",
    "    elseif DNA[i]=='T'\n",
    "        T = T+1\n",
    "    end\n",
    "end\n",
    "println(A,' ',C, ' ', G , ' ' , T)\n",
    "                "
   ]
  },
  {
   "cell_type": "markdown",
   "id": "0c5ae601",
   "metadata": {},
   "source": [
    "## Challenge 2: Counting DNA Nucleotides"
   ]
  },
  {
   "cell_type": "code",
   "execution_count": 29,
   "id": "c9afbec5",
   "metadata": {},
   "outputs": [
    {
     "name": "stdout",
     "output_type": "stream",
     "text": [
      "GCUCCGUGCUAGACAGCUUAAACGGUGGGUUUAGUCAACGCAAAACAAUAAAGACGUUGAUUAGUCAUAGGUCCAGACGGUUUCACCUUACAGCGGCGCAUAACGCAUGUGUGAGAUGACAAAUCGCAGGAUUACGUAAGGUACGAGGUUUGUCUAUACAUCUAUAUUGAAAAGACGGGAGAAUCUCACAGGUGGUCACAAGCGAUAACAUUAUUCCCAUAUCUUCUAGGUGUCGUCCAGGCGACCAGAAGACGCCCUGGUCGAUGUAUCAAAAAGGCACGAGUGCGCGCCCAAUGAGUGCCGUAUUUCUGAUCAUUAUAUAUUGAUGUCCGAUGCUAGAAUUACUUCGUUCGCUUCACGAAAAUCGAUGUGGAUCCUGUUAAAGGCAGUCUGCUAAGAAACCCGAGCCAACACUCCACGAGAUGAGGGUUUGCAACCUUAGAUACUCACCGCCGGAUCGGGGCAAUCGAAAGGCGUUCUAGUGGCUUUAUGAUUCGGCGUUCGGUUCCAACAGCAUGAUCGCUAAUACCAGUUGCAGAUUACAGUCGCGCACUGGUCAUGUUUUUAUCUCCGGCCAUAGAAGGAUGUGUACAUAUUUUCGCCACCCCGAUAUUCCGAAUUAAUGGCGCCAGAUUCGCCCCGCCACACCCUCCUCCGAGGAUGUGCUAACCGUUACGAAUCCCGAGUAGUAUACGGUAAUCGCAGACAGGAAUUGAGGUAUGGCGGGAUGGUUAUGGCGGAGUGAGCCUAAAUCCUCGACUGACCUGAGCAAAACGAAAGCGAGACCCAUAGAUGGCACUUGGUCUGGGUGCAGGUGUUUUAUCUCCCCCCGACCUGCAACUCGUGAUCGGGAGAUAGCAUGCUGAACAAAAAUAUUUUGGCUACUACCACUCGAUUCCAGGGAAUUUCGCUGCCCUCGA\r\n",
      "\n"
     ]
    }
   ],
   "source": [
    "file = open(\"rosalind_rna.txt\", \"r\")\n",
    "DNA = read(file, String) \n",
    "RNA = collect(DNA)\n",
    "\n",
    "l = length(DNA)\n",
    "\n",
    "for i in 1:l\n",
    "    if DNA[i]=='T'\n",
    "       RNA[i] = 'U'\n",
    "    end\n",
    "end\n",
    "RNA = join(RNA)\n",
    "println(RNA)\n",
    "                "
   ]
  },
  {
   "cell_type": "markdown",
   "id": "cc07014b",
   "metadata": {},
   "source": [
    "## Challenge 3: Complementing a Strand of DNA solved by 51564\n"
   ]
  },
  {
   "cell_type": "code",
   "execution_count": 37,
   "id": "f104fa7d",
   "metadata": {},
   "outputs": [
    {
     "name": "stdout",
     "output_type": "stream",
     "text": [
      "GGAAAAAGCCGGGCTATGGGTCAGATTAAAATAGGCTCTAAATGCTGCAGGAAGCAAGTCCGCGTACGACTATAGGATAGGCGAGGGGATGCTGCATTATCGGCTATACACGGCCAAATTATGATGCTAAATTAGAGGCGCAAATCCTTTCTGCATACACTTCTAGCGGTTGTAATATCGACGAGGTGACAGAAGGTTCATTGTTCGATGAGTCTTATATTTCGTTACAATACGGGCAGCTAGTCGGATCGCCCTACGGGAGGGGTCCCAATTTTACGTACGGCGAACGGATAATCATGATCCTTGCGCAGCGTACGGCATCAAGTATGGAACTTCCGCACATTGCGATTGTTTCCTGTCCACCCCAACTTGAGTGGACCCTTTGCCCGGTGAGGGTGGCATGTACTCCGCATTAGGGTTGCTTGAACTTCACCGTGCAGGAGCTTTGTTACCTGTTCCGAAAGACCCCCGTTGGAAGAGAACTCTGCCTCGGCGTCACATTTTCAGATCGGTGGCCGGGTGGTAAAACGACTGCATACGGACAGTAGGAAATCATGCTCCACTATGCCGCACACGTGAGATGATCAACGACAATCCTAGGCTCAAACGCACACGCCCAACTAGCCCCGCCAACAACGAACGCGGACACACACTGTTGTGTATGTGATCGGCCCGGTCAACTAAAAAATGTGAATAGTTTAGACCCAATAACCCAAGCTCGGGCATTCGATTACGTGTTGTACCTTAATTATTGGACTGCACTACACGGTCAGTGGATACCAAATTTTTCCGCCAGGTTCGTTAGCCCTGAGCAAGAACG\n"
     ]
    }
   ],
   "source": [
    "function Reverse(DNA)\n",
    "    l = length(DNA)\n",
    "    reverse = []\n",
    "    for i in 1:l\n",
    "        push!(reverse, DNA[l-i+1])\n",
    "    end\n",
    "    reverse = join(reverse)\n",
    "    return reverse\n",
    "end\n",
    "\n",
    "function Complement(DNA)\n",
    "    l = length(DNA)\n",
    "    complement = []\n",
    "    for i in 1:l\n",
    "        if DNA[i] == 'A'\n",
    "            push!(complement, 'T')\n",
    "        elseif DNA[i] == 'T'\n",
    "            push!(complement, 'A')\n",
    "        elseif DNA[i] == 'G'\n",
    "            push!(complement, 'C')\n",
    "        elseif DNA[i] == 'C'\n",
    "            push!(complement, 'G')\n",
    "        end\n",
    "    end\n",
    "    complement = join(complement)\n",
    "    return complement\n",
    "end\n",
    "\n",
    "\n",
    "file = open(\"rosalind_revc.txt\", \"r\")\n",
    "DNA = read(file, String) \n",
    "rev = Reverse(DNA)\n",
    "complement = Complement(rev)\n",
    "println(complement)\n",
    "                "
   ]
  },
  {
   "cell_type": "markdown",
   "id": "1252248e",
   "metadata": {},
   "source": [
    "## Challenge 4: Computing GC Content"
   ]
  },
  {
   "cell_type": "code",
   "execution_count": 83,
   "id": "68e8c605",
   "metadata": {},
   "outputs": [
    {
     "name": "stdout",
     "output_type": "stream",
     "text": [
      "Rosalind_7390\n",
      "51.502590673575135\n"
     ]
    }
   ],
   "source": [
    "function CG(DNA)\n",
    "    cg_count = 0\n",
    "    l = length(DNA)\n",
    "    for i in 1:l\n",
    "        if DNA[i] == 'C' || DNA[i] == 'G'\n",
    "            cg_count = cg_count+1\n",
    "        end\n",
    "    end\n",
    "    return 100*(cg_count/l)        \n",
    "end\n",
    "\n",
    "function preprocess(Sample)\n",
    "    FASTA = split(Sample,\"\\r\\n>\")\n",
    "    FASTA[1] = FASTA[1][2:length(FASTA[1])]\n",
    "    strands = Dict()\n",
    "    l = length(FASTA)\n",
    "    for i in 1:l\n",
    "        temp = split(FASTA[i],\"\\r\\n\")\n",
    "        strand = join(temp[2:length(temp)])\n",
    "        strands[temp[1]] = strand\n",
    "    end\n",
    "    return strands\n",
    "end\n",
    "function CG_max(FASTA)\n",
    "    res = [\"\",0]\n",
    "    for i in keys(FASTA)\n",
    "        temp = CG(FASTA[i])\n",
    "        if res[2]<temp\n",
    "            res[1] = i\n",
    "            res[2] = temp\n",
    "        end\n",
    "    end\n",
    "    return res\n",
    "end\n",
    "    \n",
    "\n",
    "file = open(\"rosalind_gc1.txt\", \"r\")\n",
    "Sample = read(file, String)\n",
    "FASTA = preprocess(Sample)\n",
    "res = CG_max(FASTA)\n",
    "for item in res\n",
    "    println(item)\n",
    "end"
   ]
  },
  {
   "cell_type": "markdown",
   "id": "a13b1d04",
   "metadata": {},
   "source": [
    "## Challenge 5 Counting Point Mutations"
   ]
  },
  {
   "cell_type": "code",
   "execution_count": 87,
   "id": "a794af8b",
   "metadata": {},
   "outputs": [
    {
     "name": "stdout",
     "output_type": "stream",
     "text": [
      "SubString{String}[\"ACATCACAGGCAAAGACACCCACCTAAAGGCACTGCACGCCCGTTGAACGCTGGCCTAACTCCCCGCCTAAATGAGTCGCTTACCGCCGTTGACCGAATCAACGTCGCTAGGCTCACCATAAATAAGCGGGAGAGAACGTGCAATAAGATTGTGTAAACGCACAGAGCCGGGGACAGATAGCGAGTCGGAATAACCTTCGGATCTTTACAACCTTCCGCGCGGCGCTGGCCCCCGTAACATACCTGACTATCTGTGTCAATCCGGCACCAGCCCGGGAGCACCATCTGTGCAATTGCGAGTTTTGGACCTGAAGTTATTCGCTTGCTATAAAATGATCGCTGAGGACTCGGGGAGGCCAAAAGTCGCTCCATACGCCTTACGGGAACAAGGCACTTACTATGTACTATGATCCTAATCTGAGGAACTCGGTGGTGCCTACTTACTCGGCGAAACGCAACTGAGAAACTGTAAATTCATCCACTGCCGAAAATATCCGTTCCTGGGATGAGTACTAGGCTCTCGACGGGGTCTGCCTGGATGTGCCACGGCATGAACGAATAGTTACTATCCTTTACGCAAGCGTGCAGTATCCCAGCGAAACATCCATTTTGTGACTGACAGGCCAATAGCCCGTGGTGCAACGACACAACTAGTAAGCCATATCTTCGGCATAAATGTAGAAAACTGGGGCGGGCTTATCGACCAACGCGATGCAAGTACCTTTTGCACATTTGGGAAAAGGAGTCCAACGACCTATATGAGGGTGGTAGATGGTTGCTATCCAGTAACCAATACCAGGTAGTCACATAAAGAGGGCAAACCGCGGGTGCCCAGTCTTATCCAAGGCCTGAGTTGGTCAGCGTTCGCCTTTAGCATATTCTTGGTCCTCATTGATACTCGTCTGGC\", \"ATAGCATACTCGCTGCCACTCCTCCCTAAACACCGCGTTACCGTTTAGCCCTGACTACATTAAGCGAGTGCGTTTTTGCTCGGTCCTGCACGACCGAAATGATGGCGCTCTATGTACCACTCAGCTGCGGTAGCGTCGGTCCGAACTGAGTATCGCTCCATTAAGTTGAGCACAAGAATAGCGCCTCGCCAGGATCCTCGCATTTTAGCACACGGCTCCGGTGACATAGGCCCAATACTATACCTTGGGACCACGCAGAATAGGCGTACAACAACCCTGAGAACTATGTTGAATTGGAAGTTAGGGAGCTGCAATCACGCGTCGACCCTAACCGGATGGCTGCCGATTCGCAGTGCGGTAGCCTAGACGCACGTTCAATACCTAACAGTCGCGCCTTCAAGGGATTTAGGACCCTAGATCAGGCAATCGTTGTTGGAATAGTATTTTGTGAAACGCACATGACGTCGTGTATAATCATTCCTAGAGTGACACAGGGTTGCGTGGGCTGTTCACTCGTCTTCAGCCAGGTAGGCAAAAGTTTAGCGAGCATCACAACGAATATCGATGGCCGGTAAATAAGCCTAAAGGTAGCCCACTGAAATTTGCGTATTGTACGACCAGAACCTTGTGGACGAGCTACAAGTTCACACCCCGGAAAGGCCATGGTGCAAAAGAAGACAGGATACACATGATGGCTTAACGACCAAACCGATACAAGTTACGATGGCTTGTTGGGGGTATGTACTCGACCAACTACCTATAGAGTGCTAGATGGCAACTCGCCCGGTTCCGATCCAGGCCAATCGCATAACGCGCTCCATCCGGCCATAGCCAACCGCCGCCTCGGCGTTCCAGGATAGTCGGGCGCCACTAATCCTGAAGTCGACCCCGGTTATAGTCTACTGTA\", \"\"]\n",
      "479\n"
     ]
    }
   ],
   "source": [
    "function hamming(s,h)\n",
    "    l = length(s) \n",
    "    res = 0\n",
    "    for i in 1:l\n",
    "        if s[i]!=h[i]\n",
    "            res = res+1\n",
    "        end\n",
    "    end\n",
    "    return res\n",
    "end\n",
    "\n",
    "file = open(\"rosalind_hamm.txt\", \"r\")\n",
    "Sample = read(file, String)\n",
    "DNAs = split(Sample,\"\\r\\n\")\n",
    "println(DNAs)\n",
    "point_mutations = hamming(DNAs[1], DNAs[2])\n",
    "println(point_mutations)"
   ]
  },
  {
   "cell_type": "markdown",
   "id": "ff4921b8",
   "metadata": {},
   "source": [
    "## Challenge 6 Mendel's First Law"
   ]
  },
  {
   "cell_type": "code",
   "execution_count": 100,
   "id": "ef901edd",
   "metadata": {},
   "outputs": [
    {
     "data": {
      "text/plain": [
       "0.8646326008511848"
      ]
     },
     "execution_count": 100,
     "metadata": {},
     "output_type": "execute_result"
    }
   ],
   "source": [
    "function dom_allele(k,m,n)\n",
    "    total = k+m+n\n",
    "    denom = total*(total-1)\n",
    "    k_m = 2*(k*m)*1\n",
    "    m_n = 2*(m*n)*0.5\n",
    "    k_n = 2*(k*n)*1\n",
    "    k_k = (k*(k-1))*1\n",
    "    m_m = (m*(m-1))*0.75\n",
    "    prob = (k_m+m_n+k_n+k_k+m_m)/denom\n",
    "    return prob\n",
    "end\n",
    "dom_allele(400,1000,24)"
   ]
  },
  {
   "cell_type": "code",
   "execution_count": null,
   "id": "c2017bdd",
   "metadata": {},
   "outputs": [],
   "source": []
  }
 ],
 "metadata": {
  "kernelspec": {
   "display_name": "Julia 1.9.4",
   "language": "julia",
   "name": "julia-1.9"
  },
  "language_info": {
   "file_extension": ".jl",
   "mimetype": "application/julia",
   "name": "julia",
   "version": "1.9.4"
  }
 },
 "nbformat": 4,
 "nbformat_minor": 5
}
